{
 "cells": [
  {
   "cell_type": "code",
   "execution_count": 1,
   "id": "4957e088-ee0e-4a25-b6b7-b3dfc073c89f",
   "metadata": {},
   "outputs": [],
   "source": [
    "import pandas as pd\n",
    "import matplotlib.pyplot as plt\n",
    "import numpy as np"
   ]
  },
  {
   "cell_type": "code",
   "execution_count": 2,
   "id": "b5a35bd2-6218-4362-bc95-fe765954788e",
   "metadata": {},
   "outputs": [],
   "source": [
    "# color palettes from coolors.co\n",
    "\n",
    "colors = {'random':'#74D3AE',\n",
    "           'random dark':'#2C8C67',\n",
    "           'cellcollective':'#DD9787',\n",
    "           'cellcollective dark':'#AF4831'\n",
    "          }"
   ]
  },
  {
   "cell_type": "code",
   "execution_count": 3,
   "id": "5665d73b-efa1-45b8-9b02-eab46aec6818",
   "metadata": {},
   "outputs": [],
   "source": [
    "cc_data = pd.read_csv('240123_cell_collective_ck_and_isolated_fp_data.csv')\n",
    "rand_data = pd.read_csv('240123_random_ck_and_isolated_fp_data.csv')"
   ]
  },
  {
   "cell_type": "code",
   "execution_count": 4,
   "id": "ff8aaab7-96bd-43f1-8eff-f59681f58480",
   "metadata": {},
   "outputs": [
    {
     "data": {
      "text/html": [
       "<div>\n",
       "<style scoped>\n",
       "    .dataframe tbody tr th:only-of-type {\n",
       "        vertical-align: middle;\n",
       "    }\n",
       "\n",
       "    .dataframe tbody tr th {\n",
       "        vertical-align: top;\n",
       "    }\n",
       "\n",
       "    .dataframe thead th {\n",
       "        text-align: right;\n",
       "    }\n",
       "</style>\n",
       "<table border=\"1\" class=\"dataframe\">\n",
       "  <thead>\n",
       "    <tr style=\"text-align: right;\">\n",
       "      <th></th>\n",
       "      <th>name</th>\n",
       "      <th>mean control kernel size</th>\n",
       "      <th>number of attractors</th>\n",
       "      <th>size</th>\n",
       "      <th>number of isolated fixed points</th>\n",
       "    </tr>\n",
       "  </thead>\n",
       "  <tbody>\n",
       "    <tr>\n",
       "      <th>0</th>\n",
       "      <td>Cortical Area Development</td>\n",
       "      <td>1.0</td>\n",
       "      <td>2</td>\n",
       "      <td>5</td>\n",
       "      <td>0.0</td>\n",
       "    </tr>\n",
       "    <tr>\n",
       "      <th>1</th>\n",
       "      <td>Cell Cycle Transcription By Coupled CDK And Ne...</td>\n",
       "      <td>1.0</td>\n",
       "      <td>2</td>\n",
       "      <td>9</td>\n",
       "      <td>0.0</td>\n",
       "    </tr>\n",
       "    <tr>\n",
       "      <th>2</th>\n",
       "      <td>Mammalian Cell Cycle 2006</td>\n",
       "      <td>0.0</td>\n",
       "      <td>1</td>\n",
       "      <td>10</td>\n",
       "      <td>0.0</td>\n",
       "    </tr>\n",
       "  </tbody>\n",
       "</table>\n",
       "</div>"
      ],
      "text/plain": [
       "                                                name  \\\n",
       "0                          Cortical Area Development   \n",
       "1  Cell Cycle Transcription By Coupled CDK And Ne...   \n",
       "2                          Mammalian Cell Cycle 2006   \n",
       "\n",
       "   mean control kernel size  number of attractors  size  \\\n",
       "0                       1.0                     2     5   \n",
       "1                       1.0                     2     9   \n",
       "2                       0.0                     1    10   \n",
       "\n",
       "   number of isolated fixed points  \n",
       "0                              0.0  \n",
       "1                              0.0  \n",
       "2                              0.0  "
      ]
     },
     "execution_count": 4,
     "metadata": {},
     "output_type": "execute_result"
    }
   ],
   "source": [
    "cc_data[:3]"
   ]
  },
  {
   "cell_type": "code",
   "execution_count": 5,
   "id": "b74a6e20-9b80-4089-b4a8-e12c4b52c82d",
   "metadata": {},
   "outputs": [
    {
     "data": {
      "text/html": [
       "<div>\n",
       "<style scoped>\n",
       "    .dataframe tbody tr th:only-of-type {\n",
       "        vertical-align: middle;\n",
       "    }\n",
       "\n",
       "    .dataframe tbody tr th {\n",
       "        vertical-align: top;\n",
       "    }\n",
       "\n",
       "    .dataframe thead th {\n",
       "        text-align: right;\n",
       "    }\n",
       "</style>\n",
       "<table border=\"1\" class=\"dataframe\">\n",
       "  <thead>\n",
       "    <tr style=\"text-align: right;\">\n",
       "      <th></th>\n",
       "      <th>name</th>\n",
       "      <th>mean control kernel size</th>\n",
       "      <th>number of attractors</th>\n",
       "      <th>size</th>\n",
       "      <th>number of isolated fixed points</th>\n",
       "    </tr>\n",
       "  </thead>\n",
       "  <tbody>\n",
       "    <tr>\n",
       "      <th>0</th>\n",
       "      <td>random_6_N10_k2_p0.25_seed738</td>\n",
       "      <td>NaN</td>\n",
       "      <td>4</td>\n",
       "      <td>10</td>\n",
       "      <td>0.0</td>\n",
       "    </tr>\n",
       "    <tr>\n",
       "      <th>1</th>\n",
       "      <td>random_30_N10_k2_p0.75_seed3690</td>\n",
       "      <td>0.0</td>\n",
       "      <td>1</td>\n",
       "      <td>10</td>\n",
       "      <td>0.0</td>\n",
       "    </tr>\n",
       "    <tr>\n",
       "      <th>2</th>\n",
       "      <td>random_4_N15_k2_p0.25_seed492</td>\n",
       "      <td>1.0</td>\n",
       "      <td>2</td>\n",
       "      <td>15</td>\n",
       "      <td>0.0</td>\n",
       "    </tr>\n",
       "  </tbody>\n",
       "</table>\n",
       "</div>"
      ],
      "text/plain": [
       "                              name  mean control kernel size  \\\n",
       "0    random_6_N10_k2_p0.25_seed738                       NaN   \n",
       "1  random_30_N10_k2_p0.75_seed3690                       0.0   \n",
       "2    random_4_N15_k2_p0.25_seed492                       1.0   \n",
       "\n",
       "   number of attractors  size  number of isolated fixed points  \n",
       "0                     4    10                              0.0  \n",
       "1                     1    10                              0.0  \n",
       "2                     2    15                              0.0  "
      ]
     },
     "execution_count": 5,
     "metadata": {},
     "output_type": "execute_result"
    }
   ],
   "source": [
    "rand_data[:3]"
   ]
  },
  {
   "cell_type": "code",
   "execution_count": 18,
   "id": "f632a3e6-e890-4399-9aa2-44e7c6937ba1",
   "metadata": {},
   "outputs": [
    {
     "data": {
      "image/png": "[encoded data removed]",
      "text/plain": [
       "<Figure size 432x288 with 1 Axes>"
      ]
     },
     "metadata": {
      "needs_background": "light"
     },
     "output_type": "display_data"
    }
   ],
   "source": [
    "cc = cc_data['mean control kernel size']\n",
    "rand = rand_data['mean control kernel size']\n",
    "\n",
    "bins = np.linspace(0, 20, 21)\n",
    "plt.ylim(0,.4)\n",
    "\n",
    "plt.hist(rand, bins=bins,density=True,alpha=.75,\n",
    "         label='random networks\\n (variance = '+'{:.2f}'.format(np.var(rand))+')',\n",
    "         color=colors['random'], edgecolor=colors['random dark'], rwidth=0.8)\n",
    "\n",
    "plt.hist(cc,bins=bins,density=True,alpha=.75,\n",
    "         label='biological networks\\n (variance = '+'{:.2f}'.format(np.var(cc))+')',\n",
    "         color=colors['cellcollective'], edgecolor=colors['cellcollective dark'], rwidth=0.8)\n",
    "\n",
    "plt.xlabel(r'$ \\langle|CK|\\rangle $',size=13)\n",
    "plt.ylabel('frequency',size=13)\n",
    "plt.xticks(size=13)\n",
    "plt.yticks(size=13)\n",
    "\n",
    "plt.legend(fontsize=11)\n",
    "plt.savefig('ck_dist.pdf')\n",
    "plt.show()"
   ]
  },
  {
   "cell_type": "code",
   "execution_count": 16,
   "id": "35360fdb-76f4-4f00-8148-d11616481729",
   "metadata": {},
   "outputs": [
    {
     "data": {
      "image/png": "[encoded data removed]",
      "text/plain": [
       "<Figure size 432x288 with 1 Axes>"
      ]
     },
     "metadata": {
      "needs_background": "light"
     },
     "output_type": "display_data"
    }
   ],
   "source": [
    "ck = cc_data['mean control kernel size']\n",
    "r = cc_data['number of attractors']\n",
    "cc = ck - np.log2(r)\n",
    "\n",
    "ck = rand_data['mean control kernel size']\n",
    "r = rand_data['number of attractors']\n",
    "rand = ck - np.log2(r)\n",
    "\n",
    "bins = np.linspace(-7.5, 7.5, 16)\n",
    "plt.ylim(0,.8)\n",
    "\n",
    "plt.hist(rand, bins=bins,density=True,alpha=.75,\n",
    "         label='random networks\\n (variance = '+'{:.2f}'.format(np.var(rand))+')',\n",
    "         color=colors['random'], edgecolor=colors['random dark'], rwidth=0.8)\n",
    "\n",
    "plt.hist(cc,bins=bins,density=True,alpha=.75,\n",
    "         label='biological networks\\n (variance = '+'{:.2f}'.format(np.var(cc))+')',\n",
    "         color=colors['cellcollective'], edgecolor=colors['cellcollective dark'], rwidth=0.8)\n",
    "\n",
    "plt.xlabel(r'$ \\langle|CK|\\rangle - \\log_2 r$',size =13)\n",
    "plt.ylabel('frequency',size=13)\n",
    "plt.xticks(size=13)\n",
    "plt.yticks(size=13)\n",
    "\n",
    "plt.legend(fontsize=11)\n",
    "plt.savefig('ck_model1_dist.pdf')\n",
    "plt.show()"
   ]
  },
  {
   "cell_type": "code",
   "execution_count": 17,
   "id": "d7f1a8cd-63e9-4fe4-af99-647e89807537",
   "metadata": {},
   "outputs": [
    {
     "data": {
      "image/png": "[encoded data removed]",
      "text/plain": [
       "<Figure size 432x288 with 1 Axes>"
      ]
     },
     "metadata": {
      "needs_background": "light"
     },
     "output_type": "display_data"
    }
   ],
   "source": [
    "ck = cc_data['mean control kernel size']\n",
    "r = cc_data['number of attractors']\n",
    "s = cc_data['number of isolated fixed points'] \n",
    "n = cc_data['size'] \n",
    "cc = ck - ((r-s)/r)*np.log2(r) - (s/r)*n\n",
    "\n",
    "ck = rand_data['mean control kernel size']\n",
    "r = rand_data['number of attractors']\n",
    "s = rand_data['number of isolated fixed points'] \n",
    "n = rand_data['size'] \n",
    "rand = ck - ((r-s)/r)*np.log2(r) - (s/r)*n\n",
    "\n",
    "bins = np.linspace(-7.5, 7.5, 16)\n",
    "plt.ylim(0,.8)\n",
    "\n",
    "plt.hist(rand, bins=bins,density=True,alpha=.75,\n",
    "         label='random networks\\n (variance = '+'{:.2f}'.format(np.var(rand))+')',\n",
    "         color=colors['random'], edgecolor=colors['random dark'], rwidth=0.8)\n",
    "\n",
    "plt.hist(cc,bins=bins,density=True,alpha=.75,\n",
    "         label='biological networks\\n (variance = '+'{:.2f}'.format(np.var(cc))+')',\n",
    "         color=colors['cellcollective'], edgecolor=colors['cellcollective dark'], rwidth=0.8)\n",
    "\n",
    "plt.xlabel(r'$ \\langle|CK|\\rangle - \\left[\\frac{r-s}{r}\\,\\log_2 r + \\frac{r}{s}\\,  n \\right] $',size=13)\n",
    "plt.ylabel('frequency',size=13)\n",
    "plt.xticks(size=13)\n",
    "plt.yticks(size=13)\n",
    "\n",
    "plt.legend(fontsize=11)\n",
    "plt.savefig('ck_model2_dist.pdf')\n",
    "plt.show()"
   ]
  }
 ],
 "metadata": {
  "kernelspec": {
   "display_name": "Python 3 (ipykernel)",
   "language": "python",
   "name": "python3"
  },
  "language_info": {
   "codemirror_mode": {
    "name": "ipython",
    "version": 3
   },
   "file_extension": ".py",
   "mimetype": "text/x-python",
   "name": "python",
   "nbconvert_exporter": "python",
   "pygments_lexer": "ipython3",
   "version": "3.9.5"
  }
 },
 "nbformat": 4,
 "nbformat_minor": 5
}
