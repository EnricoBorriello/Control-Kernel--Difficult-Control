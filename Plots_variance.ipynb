{
 "cells": [
  {
   "cell_type": "markdown",
   "id": "90cf4b1e",
   "metadata": {},
   "source": [
    "# NEW VERSION WITH CORE NODES\n",
    "\n",
    "Enrico Borriello, enrico.borriello@asu.edu\n",
    "Latest Update: Jul 17 20224"
   ]
  },
  {
   "cell_type": "code",
   "execution_count": 1,
   "id": "fedaf7f4",
   "metadata": {},
   "outputs": [],
   "source": [
    "import math\n",
    "import pandas as pd\n",
    "import matplotlib.pyplot as plt\n",
    "import numpy as np\n",
    "\n",
    "# color palettes from coolors.co\n",
    "\n",
    "colors = {'random':'#74D3AE',\n",
    "           'random dark':'#2C8C67',\n",
    "           'cellcollective':'#DD9787',\n",
    "           'cellcollective dark':'#AF4831'\n",
    "          }"
   ]
  },
  {
   "cell_type": "code",
   "execution_count": 2,
   "id": "e3de657d-a600-4130-b420-24ab613d8f0d",
   "metadata": {},
   "outputs": [],
   "source": [
    "def gaussian(mu, sigma, x):\n",
    "    y = (1 / (sigma * np.sqrt(2 * np.pi))) * np.exp(-0.5 * ((x - mu) / sigma) ** 2)\n",
    "    return y"
   ]
  },
  {
   "cell_type": "markdown",
   "id": "46a9479d-aa3a-4f53-bc39-23007127b811",
   "metadata": {},
   "source": [
    "# Import and Clean Data"
   ]
  },
  {
   "cell_type": "code",
   "execution_count": 3,
   "id": "78497989",
   "metadata": {},
   "outputs": [],
   "source": [
    "#cc_data = pd.read_csv('240123_cell_collective_ck_and_isolated_fp_data.csv')\n",
    "#rand_data = pd.read_csv('240123_random_ck_and_isolated_fp_data.csv')\n",
    "\n",
    "cc_data = pd.read_csv('new_data/240216_cell_collective_ck_and_isolated_fp_data.csv')\n",
    "iowa_data = pd.read_csv('new_data/240216_iowa_database_ck_and_isolated_fp_data.csv')\n",
    "bio_data = pd.concat([cc_data, iowa_data], ignore_index=True)\n",
    "\n",
    "#rand_data = pd.read_csv('new_data/240216_random_ck_and_isolated_fp_data.csv') # old data\n",
    "rand_data = pd.read_csv('new_data/240626_random_ck_and_isolated_fp_data.csv')"
   ]
  },
  {
   "cell_type": "code",
   "execution_count": 4,
   "id": "6fcd951e-82d8-49ce-9bd4-9ebc9bd3d1d2",
   "metadata": {},
   "outputs": [
    {
     "data": {
      "text/html": [
       "<div>\n",
       "<style scoped>\n",
       "    .dataframe tbody tr th:only-of-type {\n",
       "        vertical-align: middle;\n",
       "    }\n",
       "\n",
       "    .dataframe tbody tr th {\n",
       "        vertical-align: top;\n",
       "    }\n",
       "\n",
       "    .dataframe thead th {\n",
       "        text-align: right;\n",
       "    }\n",
       "</style>\n",
       "<table border=\"1\" class=\"dataframe\">\n",
       "  <thead>\n",
       "    <tr style=\"text-align: right;\">\n",
       "      <th></th>\n",
       "      <th>name</th>\n",
       "      <th>mean control kernel size</th>\n",
       "      <th>number of attractors</th>\n",
       "      <th>size</th>\n",
       "      <th>number of core nodes</th>\n",
       "      <th>number of isolated fixed points</th>\n",
       "      <th>fraction of uncontrollable states</th>\n",
       "    </tr>\n",
       "  </thead>\n",
       "  <tbody>\n",
       "    <tr>\n",
       "      <th>0</th>\n",
       "      <td>random_6_N10_k2_p0.25_seed738</td>\n",
       "      <td>NaN</td>\n",
       "      <td>4</td>\n",
       "      <td>10</td>\n",
       "      <td>10.0</td>\n",
       "      <td>0.0</td>\n",
       "      <td>1.0</td>\n",
       "    </tr>\n",
       "    <tr>\n",
       "      <th>1</th>\n",
       "      <td>random_30_N10_k2_p0.75_seed3690</td>\n",
       "      <td>0.0</td>\n",
       "      <td>1</td>\n",
       "      <td>10</td>\n",
       "      <td>10.0</td>\n",
       "      <td>0.0</td>\n",
       "      <td>0.0</td>\n",
       "    </tr>\n",
       "    <tr>\n",
       "      <th>2</th>\n",
       "      <td>random_4_N15_k2_p0.25_seed492</td>\n",
       "      <td>1.0</td>\n",
       "      <td>2</td>\n",
       "      <td>15</td>\n",
       "      <td>14.0</td>\n",
       "      <td>0.0</td>\n",
       "      <td>0.0</td>\n",
       "    </tr>\n",
       "  </tbody>\n",
       "</table>\n",
       "</div>"
      ],
      "text/plain": [
       "                              name  mean control kernel size  \\\n",
       "0    random_6_N10_k2_p0.25_seed738                       NaN   \n",
       "1  random_30_N10_k2_p0.75_seed3690                       0.0   \n",
       "2    random_4_N15_k2_p0.25_seed492                       1.0   \n",
       "\n",
       "   number of attractors  size  number of core nodes  \\\n",
       "0                     4    10                  10.0   \n",
       "1                     1    10                  10.0   \n",
       "2                     2    15                  14.0   \n",
       "\n",
       "   number of isolated fixed points  fraction of uncontrollable states  \n",
       "0                              0.0                                1.0  \n",
       "1                              0.0                                0.0  \n",
       "2                              0.0                                0.0  "
      ]
     },
     "execution_count": 4,
     "metadata": {},
     "output_type": "execute_result"
    }
   ],
   "source": [
    "rand_data[:3]"
   ]
  },
  {
   "cell_type": "code",
   "execution_count": 5,
   "id": "39cbe913-4d16-4eb8-8bcb-de9bb326e812",
   "metadata": {},
   "outputs": [
    {
     "data": {
      "text/html": [
       "<div>\n",
       "<style scoped>\n",
       "    .dataframe tbody tr th:only-of-type {\n",
       "        vertical-align: middle;\n",
       "    }\n",
       "\n",
       "    .dataframe tbody tr th {\n",
       "        vertical-align: top;\n",
       "    }\n",
       "\n",
       "    .dataframe thead th {\n",
       "        text-align: right;\n",
       "    }\n",
       "</style>\n",
       "<table border=\"1\" class=\"dataframe\">\n",
       "  <thead>\n",
       "    <tr style=\"text-align: right;\">\n",
       "      <th></th>\n",
       "      <th>name</th>\n",
       "      <th>mean control kernel size</th>\n",
       "      <th>number of attractors</th>\n",
       "      <th>size</th>\n",
       "      <th>number of core nodes</th>\n",
       "      <th>number of isolated fixed points</th>\n",
       "    </tr>\n",
       "  </thead>\n",
       "  <tbody>\n",
       "    <tr>\n",
       "      <th>0</th>\n",
       "      <td>Cortical Area Development</td>\n",
       "      <td>1.0</td>\n",
       "      <td>2</td>\n",
       "      <td>5</td>\n",
       "      <td>5.0</td>\n",
       "      <td>0.0</td>\n",
       "    </tr>\n",
       "    <tr>\n",
       "      <th>1</th>\n",
       "      <td>Cell Cycle Transcription By Coupled CDK And Ne...</td>\n",
       "      <td>1.0</td>\n",
       "      <td>2</td>\n",
       "      <td>9</td>\n",
       "      <td>9.0</td>\n",
       "      <td>0.0</td>\n",
       "    </tr>\n",
       "    <tr>\n",
       "      <th>2</th>\n",
       "      <td>Mammalian Cell Cycle 2006</td>\n",
       "      <td>0.0</td>\n",
       "      <td>1</td>\n",
       "      <td>10</td>\n",
       "      <td>10.0</td>\n",
       "      <td>0.0</td>\n",
       "    </tr>\n",
       "  </tbody>\n",
       "</table>\n",
       "</div>"
      ],
      "text/plain": [
       "                                                name  \\\n",
       "0                          Cortical Area Development   \n",
       "1  Cell Cycle Transcription By Coupled CDK And Ne...   \n",
       "2                          Mammalian Cell Cycle 2006   \n",
       "\n",
       "   mean control kernel size  number of attractors  size  number of core nodes  \\\n",
       "0                       1.0                     2     5                   5.0   \n",
       "1                       1.0                     2     9                   9.0   \n",
       "2                       0.0                     1    10                  10.0   \n",
       "\n",
       "   number of isolated fixed points  \n",
       "0                              0.0  \n",
       "1                              0.0  \n",
       "2                              0.0  "
      ]
     },
     "execution_count": 5,
     "metadata": {},
     "output_type": "execute_result"
    }
   ],
   "source": [
    "bio_data[:3]"
   ]
  },
  {
   "cell_type": "code",
   "execution_count": 6,
   "id": "408b941b-1bdc-42d9-9112-12b48744ca00",
   "metadata": {},
   "outputs": [
    {
     "name": "stdout",
     "output_type": "stream",
     "text": [
      "104\n",
      "371\n"
     ]
    }
   ],
   "source": [
    "print(len(bio_data))\n",
    "print(len(rand_data))"
   ]
  },
  {
   "cell_type": "code",
   "execution_count": 7,
   "id": "27693870-3dba-4a29-9b06-c5c4089f07ce",
   "metadata": {},
   "outputs": [],
   "source": [
    "#Select only controllable\n",
    "rand_data = rand_data[rand_data['fraction of uncontrollable states']<0.99]"
   ]
  },
  {
   "cell_type": "code",
   "execution_count": 8,
   "id": "7fcd8624-d3b2-4ebb-a61c-b3ce782733a6",
   "metadata": {},
   "outputs": [
    {
     "name": "stdout",
     "output_type": "stream",
     "text": [
      "104\n",
      "346\n"
     ]
    }
   ],
   "source": [
    "print(len(bio_data))\n",
    "print(len(rand_data))"
   ]
  },
  {
   "cell_type": "code",
   "execution_count": 9,
   "id": "06705679-ab17-4275-b42c-d6f00b768d27",
   "metadata": {},
   "outputs": [],
   "source": [
    "#  Clean further\n",
    "# (Ask Bryan why fraction of uncontrollable is only in rand)\n",
    "bio_data = bio_data.dropna(subset=['mean control kernel size'])\n",
    "rand_data = rand_data.dropna(subset=['mean control kernel size'])"
   ]
  },
  {
   "cell_type": "code",
   "execution_count": 10,
   "id": "8cb65413-b038-4ab6-8e51-f852d791ff74",
   "metadata": {},
   "outputs": [
    {
     "name": "stdout",
     "output_type": "stream",
     "text": [
      "97\n",
      "346\n"
     ]
    }
   ],
   "source": [
    "print(len(bio_data))\n",
    "print(len(rand_data))"
   ]
  },
  {
   "cell_type": "code",
   "execution_count": 11,
   "id": "fdf185b2-c3ae-4544-a0bd-7a1772e053e0",
   "metadata": {},
   "outputs": [],
   "source": [
    "# these are the numbers we list in Table 1 of the manuscript"
   ]
  },
  {
   "cell_type": "markdown",
   "id": "addfddab-1bc1-4c4a-8f18-8f6dccc75093",
   "metadata": {},
   "source": [
    "# Figure 4A"
   ]
  },
  {
   "cell_type": "code",
   "execution_count": 12,
   "id": "f792b3c1-d32f-41a1-968c-bf022783f84d",
   "metadata": {},
   "outputs": [
    {
     "data": {
      "image/png": "[encoded data removed]",
      "text/plain": [
       "<Figure size 432x288 with 1 Axes>"
      ]
     },
     "metadata": {
      "needs_background": "light"
     },
     "output_type": "display_data"
    }
   ],
   "source": [
    "bio = bio_data['mean control kernel size']\n",
    "rand = rand_data['mean control kernel size']\n",
    "\n",
    "bins = np.linspace(0, 20, 21)\n",
    "plt.ylim(0,.4)\n",
    "\n",
    "plt.hist(rand, bins=bins,density=True,alpha=.75,\n",
    "         label='random networks',\n",
    "         #\\n (variance = '+'{:.2f}'.format(np.var(rand))+')',\n",
    "         color=colors['random'], edgecolor=colors['random dark'], rwidth=0.8)\n",
    "\n",
    "plt.hist(bio,bins=bins,density=True,alpha=.75,\n",
    "         label='biological networks',\n",
    "         #\\n (variance = '+'{:.2f}'.format(np.var(bio))+')',\n",
    "         color=colors['cellcollective'], edgecolor=colors['cellcollective dark'], rwidth=0.8)\n",
    "\n",
    "plt.xlabel(r'$ \\langle|CK|\\rangle $',size=14)\n",
    "plt.ylabel('relative frequency',size=14)\n",
    "plt.xticks([2*i for i in range(11) ],size=14)\n",
    "plt.yticks(size=14)\n",
    "\n",
    "plt.legend(fontsize=11)\n",
    "plt.tight_layout()\n",
    "plt.savefig('NEW_ck_dist.pdf')\n",
    "plt.show()"
   ]
  },
  {
   "cell_type": "markdown",
   "id": "16eea129-8274-49ea-a391-904eadc554c7",
   "metadata": {},
   "source": [
    "# Figure 4B: Simple scaling"
   ]
  },
  {
   "cell_type": "code",
   "execution_count": 13,
   "id": "9e775bdd",
   "metadata": {},
   "outputs": [
    {
     "data": {
      "image/png": "[encoded data removed]",
      "text/plain": [
       "<Figure size 432x288 with 1 Axes>"
      ]
     },
     "metadata": {
      "needs_background": "light"
     },
     "output_type": "display_data"
    }
   ],
   "source": [
    "ck = bio_data['mean control kernel size']\n",
    "r = bio_data['number of attractors']\n",
    "bio = ck - np.log2(r)\n",
    "\n",
    "ck = rand_data['mean control kernel size']\n",
    "r = rand_data['number of attractors']\n",
    "rand = ck - np.log2(r)\n",
    "\n",
    "# Gaussian bio\n",
    "mu_bio = np.mean(bio)\n",
    "std_bio = np.std(bio)\n",
    "x = np.arange(-8,8,.1)\n",
    "y_bio = gaussian(mu_bio,std_bio,x)\n",
    "plt.plot(x,y_bio,color=colors['cellcollective dark'])\n",
    "\n",
    "# Gaussian rand\n",
    "mu_rand = np.mean(rand)\n",
    "std_rand = np.std(rand)\n",
    "x = np.arange(-8,8,.1)\n",
    "y_rand = gaussian(mu_rand,std_rand,x)\n",
    "plt.plot(x,y_rand,color=colors['random dark'])\n",
    "\n",
    "bins = np.linspace(-7.5, 7.5, 16)\n",
    "plt.ylim(0,.8)\n",
    "\n",
    "plt.hist(rand, bins=bins,density=True,alpha=.75,\n",
    "         label='random networks:'+'\\n mean = '+'{:.2f}'.format(mu_rand)+'\\n std = '+'{:.2f}'.format(std_rand),\n",
    "         color=colors['random'], edgecolor=colors['random dark'], rwidth=0.8)\n",
    "\n",
    "plt.hist(bio,bins=bins,density=True,alpha=.75,\n",
    "         label='biological networks'+'\\n mean = '+'{:.2f}'.format(mu_bio)+'\\n std = '+'{:.2f}'.format(std_bio),\n",
    "         color=colors['cellcollective'], edgecolor=colors['cellcollective dark'], rwidth=0.8)\n",
    "\n",
    "plt.xlabel(r'$ \\langle|CK|\\rangle - \\log_2 r$',size =14)\n",
    "plt.ylabel('relative frequency',size=14)\n",
    "plt.xticks(size=14)\n",
    "plt.yticks(size=14)\n",
    "\n",
    "plt.legend(fontsize=11)\n",
    "plt.tight_layout()\n",
    "plt.savefig('NEW_ck_model1_dist.pdf')\n",
    "plt.show()"
   ]
  },
  {
   "cell_type": "code",
   "execution_count": 14,
   "id": "455673ba-2217-40fc-b309-eea6adba05cc",
   "metadata": {},
   "outputs": [],
   "source": [
    "# Save data\n",
    "bio_simple_scaling = bio\n",
    "rand_simple_scaling = rand"
   ]
  },
  {
   "cell_type": "code",
   "execution_count": 15,
   "id": "7dffd95b-1cc1-4bbb-88f6-cfa17d61002d",
   "metadata": {},
   "outputs": [
    {
     "name": "stdout",
     "output_type": "stream",
     "text": [
      "mu_bio = 0.09854458101474405\n",
      "std_bio = 0.9294673940595941\n",
      "\n",
      "mu_rand = 0.4406663393113336\n",
      "std_rand = 1.2178559428652929\n"
     ]
    }
   ],
   "source": [
    "print('mu_bio = '+str(np.mean(bio)))\n",
    "print('std_bio = '+str(np.std(bio)))\n",
    "print('')\n",
    "print('mu_rand = '+str(np.mean(rand)))\n",
    "print('std_rand = '+str(np.std(rand)))"
   ]
  },
  {
   "cell_type": "code",
   "execution_count": 16,
   "id": "9747d507-e164-4661-9816-244c41df87bb",
   "metadata": {},
   "outputs": [],
   "source": [
    "import math\n",
    "bio_cleaned = [x for x in bio if not math.isnan(x)]\n",
    "rand_cleaned = [x for x in rand if not math.isnan(x)]"
   ]
  },
  {
   "cell_type": "code",
   "execution_count": 17,
   "id": "00966794-c83c-4de5-9bbc-f670204af9f7",
   "metadata": {},
   "outputs": [],
   "source": [
    "import numpy as np\n",
    "from scipy.stats import anderson\n",
    "rng = np.random.default_rng()"
   ]
  },
  {
   "cell_type": "code",
   "execution_count": 18,
   "id": "67c5258c-802e-4a97-ab88-32550acb3380",
   "metadata": {},
   "outputs": [],
   "source": [
    "res = anderson(bio_cleaned)"
   ]
  },
  {
   "cell_type": "code",
   "execution_count": 19,
   "id": "2b797edd-ba20-4340-845d-d576f054ab4e",
   "metadata": {},
   "outputs": [
    {
     "name": "stdout",
     "output_type": "stream",
     "text": [
      "10.275502081407964\n",
      "[0.555 0.632 0.758 0.884 1.051]\n",
      "[15.  10.   5.   2.5  1. ]\n"
     ]
    }
   ],
   "source": [
    "print(res.statistic)\n",
    "print(res.critical_values)\n",
    "print(res.significance_level)"
   ]
  },
  {
   "cell_type": "markdown",
   "id": "32ece5b1-f845-4d25-85fa-edad88869ede",
   "metadata": {},
   "source": [
    "# Figure 4C: Corrected Scaling"
   ]
  },
  {
   "cell_type": "code",
   "execution_count": 20,
   "id": "06ec71b9",
   "metadata": {},
   "outputs": [
    {
     "data": {
      "image/png": "[encoded data removed]",
      "text/plain": [
       "<Figure size 432x288 with 1 Axes>"
      ]
     },
     "metadata": {
      "needs_background": "light"
     },
     "output_type": "display_data"
    }
   ],
   "source": [
    "ck = bio_data['mean control kernel size']\n",
    "r = bio_data['number of attractors']\n",
    "s = bio_data['number of isolated fixed points'] \n",
    "#n = bio_data['size'] \n",
    "n = bio_data['number of core nodes']\n",
    "bio = ck - ((r-s)/r)*np.log2(r) - (s/r)*n\n",
    "\n",
    "ck = rand_data['mean control kernel size']\n",
    "r = rand_data['number of attractors']\n",
    "s = rand_data['number of isolated fixed points'] \n",
    "n = rand_data['size'] \n",
    "rand = ck - ((r-s)/r)*np.log2(r) - (s/r)*n\n",
    "\n",
    "# Gaussian bio\n",
    "mu_bio = np.mean(bio)\n",
    "std_bio = np.std(bio)\n",
    "x = np.arange(-8,8,.1)\n",
    "y_bio = gaussian(mu_bio,std_bio,x)\n",
    "plt.plot(x,y_bio,color=colors['cellcollective dark'])\n",
    "\n",
    "# Gaussian rand\n",
    "mu_rand = np.mean(rand)\n",
    "std_rand = np.std(rand)\n",
    "x = np.arange(-8,8,.1)\n",
    "y_rand = gaussian(mu_rand,std_rand,x)\n",
    "plt.plot(x,y_rand,color=colors['random dark'])\n",
    "\n",
    "bins = np.linspace(-7.5, 7.5, 16)\n",
    "plt.ylim(0,.8)\n",
    "\n",
    "plt.hist(rand, bins=bins,density=True,alpha=.75,\n",
    "         label='random networks:'+'\\n mean = '+'{:.2f}'.format(mu_rand)+'\\n std = '+'{:.2f}'.format(std_rand),\n",
    "         color=colors['random'], edgecolor=colors['random dark'], rwidth=0.8)\n",
    "\n",
    "plt.hist(bio,bins=bins,density=True,alpha=.75,\n",
    "         label='biological networks'+'\\n mean = '+'{:.2f}'.format(mu_bio)+'\\n std = '+'{:.2f}'.format(std_bio),\n",
    "         color=colors['cellcollective'], edgecolor=colors['cellcollective dark'], rwidth=0.8)\n",
    "\n",
    "plt.xlabel(r'$ \\langle|CK|\\rangle - \\left[\\frac{r-s}{r}\\,\\log_2 r + \\frac{s}{r}\\,  n_c \\right] $',size=14)\n",
    "plt.ylabel('relative frequency',size=14)\n",
    "plt.xticks(size=14)\n",
    "plt.yticks(size=14)\n",
    "\n",
    "plt.legend(fontsize=11)\n",
    "plt.tight_layout()\n",
    "plt.savefig('NEW_ck_model2_dist.pdf')\n",
    "plt.show()"
   ]
  },
  {
   "cell_type": "code",
   "execution_count": 21,
   "id": "1e47d95b-db27-49c5-afeb-01676cc62899",
   "metadata": {},
   "outputs": [],
   "source": [
    "# Save data\n",
    "bio_corrected_scaling = bio\n",
    "rand_corrected_scaling = rand"
   ]
  },
  {
   "cell_type": "markdown",
   "id": "56a2e2d9-5e09-41fe-85a0-7b6a98f8de31",
   "metadata": {},
   "source": [
    "# Statistical Tests"
   ]
  },
  {
   "cell_type": "code",
   "execution_count": 32,
   "id": "d9b1dcd2-006e-49bc-9a07-e73c6bb86e70",
   "metadata": {},
   "outputs": [
    {
     "data": {
      "image/png": "[encoded data removed]",
      "text/plain": [
       "<Figure size 864x432 with 2 Axes>"
      ]
     },
     "metadata": {
      "needs_background": "light"
     },
     "output_type": "display_data"
    }
   ],
   "source": [
    "import numpy as np\n",
    "import scipy.stats as stats\n",
    "import matplotlib.pyplot as plt\n",
    "\n",
    "# Example data sets\n",
    "data1 = bio_simple_scaling\n",
    "data2 = bio_corrected_scaling\n",
    "\n",
    "# Shapiro-Wilk Test\n",
    "shapiro_data1 = stats.shapiro(data1)\n",
    "shapiro_data2 = stats.shapiro(data2)\n",
    "\n",
    "# Q-Q Plots\n",
    "plt.figure(figsize=(12, 6))\n",
    "\n",
    "plt.subplot(1, 2, 1)\n",
    "stats.probplot(data1, dist=\"norm\", plot=plt)\n",
    "plt.title('Q-Q plot: biological networks, simple scaling')\n",
    "\n",
    "plt.subplot(1, 2, 2)\n",
    "stats.probplot(data2, dist=\"norm\", plot=plt)\n",
    "plt.title('Q-Q plot: biological networks, corrected scaling')\n",
    "\n",
    "plt.savefig('Q-Q_bio.pdf')\n",
    "plt.show()\n"
   ]
  },
  {
   "cell_type": "code",
   "execution_count": 23,
   "id": "89d52687-73ab-4049-821d-fd769cd7e86b",
   "metadata": {},
   "outputs": [
    {
     "name": "stdout",
     "output_type": "stream",
     "text": [
      "Shapiro-Wilk Test:\n",
      "Data1: ShapiroResult(statistic=0.6442127227783203, pvalue=5.44304117294607e-14)\n",
      "Data2: ShapiroResult(statistic=0.8513252139091492, pvalue=1.929099724407024e-08)\n"
     ]
    }
   ],
   "source": [
    "print(\"Shapiro-Wilk Test:\")\n",
    "print(f\"Data1: {shapiro_data1}\")\n",
    "print(f\"Data2: {shapiro_data2}\")"
   ]
  },
  {
   "cell_type": "code",
   "execution_count": 34,
   "id": "de01496d-a81e-4834-9e3d-b44e4ff746f2",
   "metadata": {},
   "outputs": [
    {
     "data": {
      "image/png": "[encoded data removed]",
      "text/plain": [
       "<Figure size 864x432 with 2 Axes>"
      ]
     },
     "metadata": {
      "needs_background": "light"
     },
     "output_type": "display_data"
    }
   ],
   "source": [
    "import numpy as np\n",
    "import scipy.stats as stats\n",
    "import matplotlib.pyplot as plt\n",
    "\n",
    "# Example data sets\n",
    "data1 = rand_simple_scaling\n",
    "data2 = rand_corrected_scaling\n",
    "\n",
    "# Shapiro-Wilk Test\n",
    "shapiro_data1 = stats.shapiro(data1)\n",
    "shapiro_data2 = stats.shapiro(data2)\n",
    "\n",
    "#print(\"Shapiro-Wilk Test:\")\n",
    "#print(f\"Data1: {shapiro_data1}\")\n",
    "#print(f\"Data2: {shapiro_data2}\")\n",
    "\n",
    "# Q-Q Plots\n",
    "plt.figure(figsize=(12, 6))\n",
    "\n",
    "plt.subplot(1, 2, 1)\n",
    "stats.probplot(data1, dist=\"norm\", plot=plt)\n",
    "plt.title('Q-Q plot: random networks, simple scaling')\n",
    "\n",
    "plt.subplot(1, 2, 2)\n",
    "stats.probplot(data2, dist=\"norm\", plot=plt)\n",
    "plt.title('Q-Q plot: random networks, corrected scaling')\n",
    "\n",
    "plt.savefig('Q-Q_rand.pdf')\n",
    "plt.show()\n"
   ]
  },
  {
   "cell_type": "code",
   "execution_count": 25,
   "id": "e33416eb-f7ee-4786-9706-493caeb49490",
   "metadata": {},
   "outputs": [
    {
     "name": "stdout",
     "output_type": "stream",
     "text": [
      "Shapiro-Wilk Test:\n",
      "simple scaling: ShapiroResult(statistic=0.6771348714828491, pvalue=3.558791899509044e-25)\n",
      "corrected scaling: ShapiroResult(statistic=0.8653945922851562, pvalue=9.255396665749731e-17)\n"
     ]
    }
   ],
   "source": [
    "print(\"Shapiro-Wilk Test:\")\n",
    "print(f\"simple scaling: {shapiro_data1}\")\n",
    "print(f\"corrected scaling: {shapiro_data2}\")"
   ]
  },
  {
   "cell_type": "code",
   "execution_count": null,
   "id": "02a0e666-2e58-4fb0-a0f2-1a53d2fbbc78",
   "metadata": {},
   "outputs": [],
   "source": []
  }
 ],
 "metadata": {
  "kernelspec": {
   "display_name": "Python 3 (ipykernel)",
   "language": "python",
   "name": "python3"
  },
  "language_info": {
   "codemirror_mode": {
    "name": "ipython",
    "version": 3
   },
   "file_extension": ".py",
   "mimetype": "text/x-python",
   "name": "python",
   "nbconvert_exporter": "python",
   "pygments_lexer": "ipython3",
   "version": "3.9.5"
  }
 },
 "nbformat": 4,
 "nbformat_minor": 5
}
